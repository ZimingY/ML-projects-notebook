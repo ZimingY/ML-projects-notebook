{
  "nbformat": 4,
  "nbformat_minor": 0,
  "metadata": {
    "colab": {
      "name": "image_classification.ipynb",
      "provenance": [],
      "collapsed_sections": [],
      "toc_visible": true,
      "authorship_tag": "ABX9TyM3siLQxxTkov3kpnLM4CMh",
      "include_colab_link": true
    },
    "kernelspec": {
      "name": "python3",
      "display_name": "Python 3"
    }
  },
  "cells": [
    {
      "cell_type": "markdown",
      "metadata": {
        "id": "view-in-github",
        "colab_type": "text"
      },
      "source": [
        "<a href=\"https://colab.research.google.com/github/ZimingY/ML-projects-notebook/blob/master/cnn_image_classification.ipynb\" target=\"_parent\"><img src=\"https://colab.research.google.com/assets/colab-badge.svg\" alt=\"Open In Colab\"/></a>"
      ]
    },
    {
      "cell_type": "code",
      "metadata": {
        "id": "r7fTIZiiDORH",
        "colab_type": "code",
        "colab": {
          "base_uri": "https://localhost:8080/",
          "height": 34
        },
        "outputId": "3269c5f1-000f-4fd8-9b33-a69d3f461dce"
      },
      "source": [
        "# CNN for classification with CIFAR-10 dataset\n",
        "!pip install torch"
      ],
      "execution_count": 37,
      "outputs": [
        {
          "output_type": "stream",
          "text": [
            "Requirement already satisfied: torch in /usr/local/lib/python3.6/dist-packages (1.4.0)\n"
          ],
          "name": "stdout"
        }
      ]
    },
    {
      "cell_type": "code",
      "metadata": {
        "id": "JTmA89-pDZFH",
        "colab_type": "code",
        "colab": {}
      },
      "source": [
        "# downloading CIFAR-10 dataset\n",
        "import torch\n",
        "import torch.nn as nn\n",
        "import torch.nn.functional as F\n",
        "import torch.optim as optim\n",
        "import torchvision # datasets\n",
        "import torchvision.transforms as transforms # compose two set\n",
        "import matplotlib.pyplot as plt\n",
        "import numpy as np\n",
        "import time\n",
        "import os"
      ],
      "execution_count": 0,
      "outputs": []
    },
    {
      "cell_type": "code",
      "metadata": {
        "id": "6szSiVZ7DjXU",
        "colab_type": "code",
        "colab": {
          "base_uri": "https://localhost:8080/",
          "height": 51
        },
        "outputId": "8fdd3736-1f86-4831-b5ee-4101644986f2"
      },
      "source": [
        "# convert python image library format to pytorch tensors\n",
        "# Then normalize the data by specifying a mean and standard\n",
        "# deviation for each of the three channels\n",
        "batch_size = 4\n",
        "transform = transforms.Compose(\n",
        "                               [transforms.ToTensor(),\n",
        "                                transforms.Normalize((0.5, 0.5, 0.5),\n",
        "                                                     (0.5, 0.5, 0.5))])\n",
        "\n",
        "trainset = torchvision.datasets.CIFAR10(root='./train_data',\n",
        "                                        train=True,\n",
        "                                        download=True,\n",
        "                                        transform=transform)\n",
        "\n",
        "trainloader = torch.utils.data.DataLoader(trainset, batch_size=batch_size,\n",
        "                                          shuffle=True)\n",
        "\n",
        "testset = torchvision.datasets.CIFAR10(root='./test_data', train=False,\n",
        "                                       download=True, transform=transform)\n",
        "testloader = torch.utils.data.DataLoader(testset, batch_size=batch_size,\n",
        "                                         shuffle=False)\n",
        "\n",
        "classes = ('plane', 'car', 'bird', 'cat', 'deer',\n",
        "           'dog', 'frog', 'horse', 'ship', 'truck')\n"
      ],
      "execution_count": 39,
      "outputs": [
        {
          "output_type": "stream",
          "text": [
            "Files already downloaded and verified\n",
            "Files already downloaded and verified\n"
          ],
          "name": "stdout"
        }
      ]
    },
    {
      "cell_type": "code",
      "metadata": {
        "id": "OJqpE2sPTeiK",
        "colab_type": "code",
        "colab": {
          "base_uri": "https://localhost:8080/",
          "height": 186
        },
        "outputId": "6156cbe5-6c20-4ff6-87d3-c16bad23c152"
      },
      "source": [
        "# take a look at the dataset\n",
        "\n",
        "def convert_to_imshow_format(image):\n",
        "\t# first convert back to [0,1] range from [-1,1] range\n",
        "\timage = image / 2 + 0.5\n",
        "\timage = image.numpy()\n",
        "\t# convert from CHW to HWC\n",
        "\t# from 3x32x32 to 32x32x3\n",
        "\treturn image.transpose(1,2,0)\n",
        "\n",
        "dataiter = iter(trainloader)\n",
        "images, labels = dataiter.next()\n",
        "\n",
        "fig, axes = plt.subplots(1, len(images), figsize=(12,2.5))\n",
        "for idx, image in enumerate(images):\n",
        "\taxes[idx].imshow(convert_to_imshow_format(image))\n",
        "\taxes[idx].set_title(classes[labels[idx]])\n",
        "\taxes[idx].set_xticks([])\n",
        "\taxes[idx].set_yticks([])"
      ],
      "execution_count": 62,
      "outputs": [
        {
          "output_type": "display_data",
          "data": {
            "image/png": "[encoded data removed]",
            "text/plain": [
              "<Figure size 864x180 with 4 Axes>"
            ]
          },
          "metadata": {
            "tags": []
          }
        }
      ]
    },
    {
      "cell_type": "code",
      "metadata": {
        "id": "hqSk6fYhZ44Q",
        "colab_type": "code",
        "colab": {
          "base_uri": "https://localhost:8080/",
          "height": 34
        },
        "outputId": "b15b8898-de2d-4a50-d124-f85bfb96cad2"
      },
      "source": [
        "image.size()"
      ],
      "execution_count": 61,
      "outputs": [
        {
          "output_type": "execute_result",
          "data": {
            "text/plain": [
              "torch.Size([3, 32, 32])"
            ]
          },
          "metadata": {
            "tags": []
          },
          "execution_count": 61
        }
      ]
    },
    {
      "cell_type": "code",
      "metadata": {
        "id": "OAeE87h7gBOo",
        "colab_type": "code",
        "colab": {}
      },
      "source": [
        ""
      ],
      "execution_count": 0,
      "outputs": []
    },
    {
      "cell_type": "markdown",
      "metadata": {
        "id": "6NMRlFATk6Pm",
        "colab_type": "text"
      },
      "source": [
        "Model Class"
      ]
    },
    {
      "cell_type": "code",
      "metadata": {
        "id": "lZK7F9wXk_H9",
        "colab_type": "code",
        "colab": {}
      },
      "source": [
        "class MyCNN(nn.Module):\n",
        "\tdef __init__(self):\n",
        "\t\tsuper().__init__()\n",
        "\t\t# 3,32,32 -> 6,28,28\n",
        "\t\tself.conv1 = nn.Conv2d(3, 6, 5)\n",
        "\t\t# 6,28,28 -> 6,14,14\n",
        "\t\tself.pool = nn.MaxPool2d(2, 2)\n",
        "\t\t# 6,14,14 -> 16,10,10\n",
        "\t\tself.conv2 = nn.Conv2d(6, 16, 5)\n",
        "\t\t# 16,10,10 -> 16,5,5 -> 120\n",
        "\t\tself.fc1 = nn.Linear(16*5*5, 120)\n",
        "\t\tself.fc2 = nn.Linear(120, 84)\n",
        "\t\tself.fc3 = nn.Linear(84, 10)\n",
        "\n",
        "\tdef forward(self, x):\n",
        "\t\tx = F.relu(self.conv1(x))\n",
        "\t\tx = self.pool(x)\n",
        "\t\tx = F.relu(self.conv2(x))\n",
        "\t\tx = self.pool(x)\n",
        "\t\tx = x.view(-1, 16*5*5)\n",
        "\t\tx = F.relu(self.fc1(x))\n",
        "\t\tx = F.relu(self.fc2(x))\n",
        "\t\tx = self.fc3(x)\n",
        "\t\tx = F.softmax(x)\n",
        "\t\treturn x\n",
        "\n",
        "\n",
        "net = MyCNN()\n",
        "criterion = nn.CrossEntropyLoss()\n",
        "optimizer = optim.SGD(net.parameters(), lr=0.001, momentum=0.9)"
      ],
      "execution_count": 0,
      "outputs": []
    },
    {
      "cell_type": "code",
      "metadata": {
        "id": "RdGqhhsFk_-w",
        "colab_type": "code",
        "colab": {}
      },
      "source": [
        ""
      ],
      "execution_count": 0,
      "outputs": []
    },
    {
      "cell_type": "markdown",
      "metadata": {
        "id": "rq_Q012-Ye7z",
        "colab_type": "text"
      },
      "source": [
        "Train the network "
      ]
    },
    {
      "cell_type": "code",
      "metadata": {
        "id": "SX-Im7lHYhoN",
        "colab_type": "code",
        "colab": {
          "base_uri": "https://localhost:8080/",
          "height": 34
        },
        "outputId": "5b9d5401-b5af-4ef9-a84c-4613bc65d621"
      },
      "source": [
        "model_folder = './model/'\n",
        "model_path = model_folder + 'cifar_cnn_model.pt'\n",
        "epochs = 10\n",
        "\n",
        "def valiloss(net, testdata):\n",
        "\t'''\n",
        "\treturn the model accuracy on all test images\n",
        "\tthe accuracy for each category \n",
        "\t'''\n",
        "\ttotal_correct = 0\n",
        "\ttotal_images = 0\n",
        "\tconfusion_matrix = np.zeros([10,10], int)\n",
        "\twith torch.no_grad():\n",
        "\t\tfor data in testdata:\n",
        "\t\t\timages, labels = data\n",
        "\t\t\toutputs = net(images)\n",
        "\t\t\t_, pred = torch.max(outputs.data, 1)\n",
        "\t\t\ttotal_images += labels.size(0)\n",
        "\t\t\ttotal_correct += (pred==labels).sum().item()\n",
        "\t\t\tfor i, l in enumerate(labels):\n",
        "\t\t\t\tconfusion_matrix[l.item(), pred[i].item()] += 1\n",
        "\treturn total_correct / total_images * 100, confusion_matrix\n",
        "\n",
        "\n",
        "if not os.path.exists(model_folder):\n",
        "\tos.makedirs(model_folder)\n",
        "\n",
        "if os.path.isfile(model_path):\n",
        "\tnet.load_state_dict(torch.load(model_path))\n",
        "\tprint('loading model from disk')\n",
        "else:\n",
        "\tfor epoch in range(epochs):\n",
        "\t\trunning_loss = 0.0\n",
        "\t\tcorrects = 0.0\n",
        "\t\tfor i, data in enumerate(trainloader):\n",
        "\t\t\tinputs, labels = data\n",
        "\t\t\toptimizer.zero_grad()\n",
        "\t\t\toutputs = net(inputs)\n",
        "\t\t\tloss = criterion(outputs, labels)\n",
        "\t\t\t\n",
        "\t\t\tloss.backward()\n",
        "\t\t\toptimizer.step()\n",
        "\n",
        "\t\t\trunning_loss += loss.item()\n",
        "\t\t\t_, pred = torch.max(outputs, 1)\n",
        "\t\t\tcorrects += torch.sum(pred == labels.data)\n",
        "\t\t\tif i % 2000 == 1999:  # print every 2000 mini-batches\n",
        "\t\t\t\tprint('[%d, %5d] training loss: %.3f' %\n",
        "                     (epoch+1, i+1, running_loss / (2000*batch_size)))\n",
        "\t\t\t\tprint('[%d, %5d] accuracy: %.3f' % \n",
        "                     (epoch+1, i+1, corrects / (2000*batch_size)))\n",
        "\t\t\t\trunning_loss = 0.0\n",
        "\t\t\t\tcorrects = 0.0\n",
        "\t\t\t\ttest_acc, confusion_matrix = valiloss(net, testloader)\n",
        "\t\t\t\tprint('[%d, %5d] val accuracy: %.3f' % (epoch+1, i+1, test_acc))\n",
        "\n",
        "\t\ttorch.save(net.state_dict(), model_path)\n",
        "\t\tprint('save model to disk in epoch %d' % (epoch))\n"
      ],
      "execution_count": 43,
      "outputs": [
        {
          "output_type": "stream",
          "text": [
            "loading model from disk\n"
          ],
          "name": "stdout"
        }
      ]
    },
    {
      "cell_type": "code",
      "metadata": {
        "id": "LRcg0kJpbETd",
        "colab_type": "code",
        "colab": {
          "base_uri": "https://localhost:8080/",
          "height": 221
        },
        "outputId": "9e1f142c-8878-4ff0-c142-4987dbfc946d"
      },
      "source": [
        "print('validation accuracy is ',test_acc )\n",
        "print( '{0:10s} - {1}'.format('Category', 'Accuracy'))\n",
        "for i, r in enumerate(confusion_matrix):\n",
        "  print('{0:10s} - {1:.1f}'.format(classes[i], r[i]/np.sum(r)))"
      ],
      "execution_count": 53,
      "outputs": [
        {
          "output_type": "stream",
          "text": [
            "validation accuracy is  50.970000000000006\n",
            "Category   - Accuracy\n",
            "plane      - 0.8\n",
            "car        - 0.6\n",
            "bird       - 0.4\n",
            "cat        - 0.3\n",
            "deer       - 0.5\n",
            "dog        - 0.5\n",
            "frog       - 0.7\n",
            "horse      - 0.5\n",
            "ship       - 0.5\n",
            "truck      - 0.3\n"
          ],
          "name": "stdout"
        }
      ]
    },
    {
      "cell_type": "code",
      "metadata": {
        "id": "nycC1CtV0-aK",
        "colab_type": "code",
        "colab": {
          "base_uri": "https://localhost:8080/",
          "height": 187
        },
        "outputId": "a8d8cbf1-b8ac-4ece-a92e-88f0109feeed"
      },
      "source": [
        "confusion_matrix"
      ],
      "execution_count": 54,
      "outputs": [
        {
          "output_type": "execute_result",
          "data": {
            "text/plain": [
              "array([[789,  22,  51,  15,  39,   9,  23,   3,  38,  11],\n",
              "       [202, 591,  18,  14,  16,   7,  17,   5,  85,  45],\n",
              "       [127,   7, 416,  57, 176,  73,  93,  21,  23,   7],\n",
              "       [ 76,  16, 103, 282,  97, 229, 113,  34,  27,  23],\n",
              "       [ 87,   4,  95,  36, 519,  47, 137,  55,  16,   4],\n",
              "       [ 39,   3, 147, 122,  84, 472,  57,  48,  23,   5],\n",
              "       [ 26,   9,  52,  57, 117,  17, 686,  14,  18,   4],\n",
              "       [ 55,   7,  85,  52, 121,  97,  37, 512,  11,  23],\n",
              "       [384,  33,  30,  11,  16,  21,   8,   6, 485,   6],\n",
              "       [182, 227,  32,  27,  14,  25,  37,  26,  85, 345]])"
            ]
          },
          "metadata": {
            "tags": []
          },
          "execution_count": 54
        }
      ]
    },
    {
      "cell_type": "code",
      "metadata": {
        "id": "SIUKabqH1lXA",
        "colab_type": "code",
        "colab": {
          "base_uri": "https://localhost:8080/",
          "height": 388
        },
        "outputId": "b9050eda-f14a-499a-d61b-c59097544c94"
      },
      "source": [
        "fig, ax = plt.subplots(1,1,figsize=(8,6))\n",
        "ax.matshow(confusion_matrix, aspect='auto', vmin=0, vmax=1000, cmap=plt.get_cmap('Blues'))\n",
        "plt.ylabel('Actual Category')\n",
        "plt.yticks(range(10), classes)\n",
        "plt.xlabel('Predicted Category')\n",
        "plt.xticks(range(10), classes)\n",
        "plt.show()"
      ],
      "execution_count": 65,
      "outputs": [
        {
          "output_type": "display_data",
          "data": {
            "image/png": "[encoded data removed]",
            "text/plain": [
              "<Figure size 576x432 with 1 Axes>"
            ]
          },
          "metadata": {
            "tags": []
          }
        }
      ]
    },
    {
      "cell_type": "code",
      "metadata": {
        "id": "nHNDuzbf9N2O",
        "colab_type": "code",
        "colab": {}
      },
      "source": [
        ""
      ],
      "execution_count": 0,
      "outputs": []
    }
  ]
}